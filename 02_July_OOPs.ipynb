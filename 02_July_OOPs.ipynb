{
  "nbformat": 4,
  "nbformat_minor": 0,
  "metadata": {
    "colab": {
      "provenance": []
    },
    "kernelspec": {
      "name": "python3",
      "display_name": "Python 3"
    },
    "language_info": {
      "name": "python"
    }
  },
  "cells": [
    {
      "cell_type": "markdown",
      "source": [
        "1.Explain what inheritance is in object-oriented programming and why it is used."
      ],
      "metadata": {
        "id": "cl81rozZEsh_"
      }
    },
    {
      "cell_type": "markdown",
      "source": [
        "In OOPs, inheritance is a concept in which one class inherits behaviors and properties from another class.It promotes code  reusability."
      ],
      "metadata": {
        "id": "P0eQXTXjE0of"
      }
    },
    {
      "cell_type": "markdown",
      "source": [
        "2.Discuss the concept of single inheritance and multiple inheritance, highlighting their\n",
        "differences and advantages."
      ],
      "metadata": {
        "id": "1PS4ifhMFt6t"
      }
    },
    {
      "cell_type": "markdown",
      "source": [
        "Single inheritance is the property in which a derived class inherits from a single base class and Multiple inheritance is the property in which a derived class inherits from two or more base class.\n",
        "Advantages of single inheritance - Simplicity as it is easier to understand because it has only one parent class and less ambiguity.\n",
        "Advantages of multiple inheritance - Multiple inheritance allows to inherit from multiple sources hence make codes more efficiently."
      ],
      "metadata": {
        "id": "l2MWH6jBF6lm"
      }
    },
    {
      "cell_type": "markdown",
      "source": [
        "3.Explain the terms \"base class\" and \"derived class\" in the context of inheritance."
      ],
      "metadata": {
        "id": "JIat_7yqJHzH"
      }
    },
    {
      "cell_type": "markdown",
      "source": [
        "\n",
        "\n",
        "* Base class - A base class is also known as parent class or super class that\n",
        "contains common attributes from which other class gets inherit from this.\n",
        "* Derived class - A derived class is also known as child class or subclass.it is a class that inherits attributes from other class.\n",
        "\n"
      ],
      "metadata": {
        "id": "G7gQUeuLNubr"
      }
    },
    {
      "cell_type": "markdown",
      "source": [
        "4.What is the significance of the \"protected\" access modifier in inheritance? How does\n",
        "it differ from \"private\" and \"public\" modifiers?"
      ],
      "metadata": {
        "id": "wUv9Va3ePlfW"
      }
    },
    {
      "cell_type": "markdown",
      "source": [
        "The protected access modifier allows a class member to be accessed within the class where it is defined and its subclasses. It is a sort of intermediate level of access between public and private.And, Public access modifiers can be accessed anywhere in the program inside the class and sub classes whereas private access modifiers can be accessed only within the class where it is defined."
      ],
      "metadata": {
        "id": "m1CzHZHbPqSH"
      }
    },
    {
      "cell_type": "markdown",
      "source": [
        "5.What is the purpose of the \"super\" keyword in inheritance? Provide an example."
      ],
      "metadata": {
        "id": "LYMrAvLJR7GN"
      }
    },
    {
      "cell_type": "markdown",
      "source": [
        "The \"super\" keyword is used to refer to the parent class from within a sub class it allows a subclass to access the attribites that are specified in the parent class."
      ],
      "metadata": {
        "id": "uVK5CCFGR-29"
      }
    },
    {
      "cell_type": "markdown",
      "source": [
        "6.Create a base class called \"Vehicle\" with attributes like \"make\", \"model\", and \"year\".\n",
        "Then, create a derived class called \"Car\" that inherits from \"Vehicle\" and adds an\n",
        "attribute called \"fuel_type\". Implement appropriate methods in both classes."
      ],
      "metadata": {
        "id": "Y06x4wCuTYue"
      }
    },
    {
      "cell_type": "code",
      "source": [
        "class vehicle:\n",
        "  def __init__(self,make,model,year):\n",
        "    self.make=make\n",
        "    self.model=model\n",
        "    self.year=year\n",
        "\n",
        "  def start(self):\n",
        "    print(f\"The {self.make} {self.model} of {self.year} has started\")\n",
        "\n",
        "class car(vehicle):\n",
        "  def __init__(self,make,model,year,fuel_type):\n",
        "    super().__init__(make,model,year)\n",
        "    self.fuel_type=fuel_type\n",
        "\n",
        "  def start(self):\n",
        "    super().start()\n",
        "    print(f\"The {self.make} is a {self.fuel_type} car\")\n",
        "\n",
        "car1=car(\"hyundai\",\"EV\",2020,\"diesel\")\n",
        "car1.start()"
      ],
      "metadata": {
        "id": "n9cgAxExTdsx",
        "colab": {
          "base_uri": "https://localhost:8080/"
        },
        "outputId": "ae2c32ea-bd0c-4bd6-9ad8-9ab30f6b75f0"
      },
      "execution_count": 1,
      "outputs": [
        {
          "output_type": "stream",
          "name": "stdout",
          "text": [
            "The hyundai EV of 2020 has started\n",
            "The hyundai is a diesel car\n"
          ]
        }
      ]
    },
    {
      "cell_type": "markdown",
      "source": [
        "7.Create a base class called \"Employee\" with attributes like \"name\" and \"salary.\"\n",
        "Derive two classes, \"Manager\" and \"Developer,\" from \"Employee.\" Add an additional\n",
        "attribute called \"department\" for the \"Manager\" class and \"programming_language\"\n",
        "for the \"Developer\" class."
      ],
      "metadata": {
        "id": "2AFOTuCtNrVN"
      }
    },
    {
      "cell_type": "code",
      "source": [
        "class employee:\n",
        "  def __init__(self,name,salary):\n",
        "    self.name=name\n",
        "    self.salary=salary\n",
        "\n",
        "  def display(self):\n",
        "    print(f\"{self.name} gets an average of {self.salary} per month\")\n",
        "\n",
        "class manager(employee):\n",
        "  def __init__(self,name,salary,department):\n",
        "    super().__init__(name,salary)\n",
        "    self.department=department\n",
        "\n",
        "  def display(self):\n",
        "    print(f\"{self.name} is from the {self.department} department\")\n",
        "\n",
        "class developer(employee):\n",
        "  def __init__(self,name,salary,programming_language):\n",
        "    super().__init__(name,salary)\n",
        "    self.programming_language=programming_language\n",
        "\n",
        "  def display(self):\n",
        "    print(f\"{self.name} knows {self.programming_language} programming language\")\n",
        "\n",
        "Manager=manager(\"gupta\",21000,\"IT\")\n",
        "Manager.display()\n",
        "\n",
        "Developer=developer(\"sunish\",30000,\"python\")\n",
        "Developer.display()"
      ],
      "metadata": {
        "colab": {
          "base_uri": "https://localhost:8080/"
        },
        "id": "6c-AdFrgN6K8",
        "outputId": "22e6afea-2578-49b9-a444-2d1413fa1a13"
      },
      "execution_count": 2,
      "outputs": [
        {
          "output_type": "stream",
          "name": "stdout",
          "text": [
            "gupta is from the IT department\n",
            "sunish knows python programming language\n"
          ]
        }
      ]
    },
    {
      "cell_type": "markdown",
      "source": [
        "8.Design a base class called \"Shape\" with attributes like \"colour\" and \"border_width.\"\n",
        "Create derived classes, \"Rectangle\" and \"Circle,\" that inherit from \"Shape\" and add\n",
        "specific attributes like \"length\" and \"width\" for the \"Rectangle\" class and \"radius\" for\n",
        "the \"Circle\" class."
      ],
      "metadata": {
        "id": "9eBw3uR3ZGkJ"
      }
    },
    {
      "cell_type": "code",
      "source": [
        "class shape:\n",
        "  def __init__(self,color,border_width):\n",
        "    self.color=color\n",
        "    self.border_width=border_width\n",
        "\n",
        "class Rectangle(shape):\n",
        "  def __init__(self,color,border_width,length,width):\n",
        "    super().__init__(color,border_width)\n",
        "    self.length=length\n",
        "    self.width=width\n",
        "\n",
        "  def display_info(self):\n",
        "    print(f\"The length of the rectangle is {self.length} and the width of the rectangle is {self.width} and it is {self.color} in color\")\n",
        "\n",
        "class Circle(shape):\n",
        "  def __init__(self,color,border_width,radius):\n",
        "    super().__init__(color,border_width)\n",
        "    self.radius=radius\n",
        "\n",
        "  def display_info(self):\n",
        "    print(f\"The radius of the circle is {self.radius} and it is {self.color} in color\")\n",
        "\n",
        "shape1=shape(\"blue\",15)\n",
        "Rectangle1=Rectangle(\"red\",20,10,7)\n",
        "Rectangle1.display_info()\n",
        "\n",
        "circle=Circle(\"black\",8,4)\n",
        "circle.display_info()"
      ],
      "metadata": {
        "colab": {
          "base_uri": "https://localhost:8080/"
        },
        "id": "T2opRfc8ZKlj",
        "outputId": "ff74d110-f8b0-440a-b108-3e2ab84b9198"
      },
      "execution_count": 1,
      "outputs": [
        {
          "output_type": "stream",
          "name": "stdout",
          "text": [
            "The length of the rectangle is 10 and the width of the rectangle is 7 and it is red in color\n",
            "The radius of the circle is 4 and it is black in color\n"
          ]
        }
      ]
    },
    {
      "cell_type": "markdown",
      "source": [
        "9.Create a base class called \"Device\" with attributes like \"brand\" and \"model.\" Derive\n",
        "two classes, \"Phone\" and \"Tablet,\" from \"Device.\" Add specific attributes like\n",
        "\"screen_size\" for the \"Phone\" class and \"battery_capacity\" for the \"Tablet\" class."
      ],
      "metadata": {
        "id": "N6jY_qPvs8-p"
      }
    },
    {
      "cell_type": "code",
      "source": [
        "class Device:\n",
        "  def __init__(self,brand,model):\n",
        "    self.brand=brand\n",
        "    self.model=model\n",
        "\n",
        "class Phone(Device):\n",
        "  def __init__(self,brand,model,screen_size):\n",
        "    super().__init__(brand,model)\n",
        "    self.screen_size=screen_size\n",
        "\n",
        "  def display(self):\n",
        "    print(f\"The phone is {self.brand} {self.model} and has screen size of {self.screen_size}.\")\n",
        "\n",
        "class Tablet(Device):\n",
        "  def __init__(self,brand,model,battery_capacity):\n",
        "    super().__init__(brand,model)\n",
        "    self.battery_capacity=battery_capacity\n",
        "\n",
        "  def display(self):\n",
        "    print(f\"The tablet is {self.brand} {self.model} and has {self.battery_capacity} battery capacity.\")\n",
        "\n",
        "\n",
        "phone=Phone(\"POCO\",\"X4\",6.5)\n",
        "phone.display()\n",
        "\n",
        "tablet=Tablet(\"samsung galaxy\",\"s8\",\"6000wh\")\n",
        "tablet.display()"
      ],
      "metadata": {
        "colab": {
          "base_uri": "https://localhost:8080/"
        },
        "id": "SfisekqDzUJp",
        "outputId": "267cf719-4ece-4e86-a29d-492e4dc72d0a"
      },
      "execution_count": 2,
      "outputs": [
        {
          "output_type": "stream",
          "name": "stdout",
          "text": [
            "The phone is POCO X4 and has screen size of 6.5.\n",
            "The tablet is samsung galaxy s8 and has 6000wh battery capacity.\n"
          ]
        }
      ]
    },
    {
      "cell_type": "markdown",
      "source": [
        "10.Create a base class called \"BankAccount\" with attributes like \"account_number\" and\n",
        "\"balance.\" Derive two classes, \"SavingsAccount\" and \"CheckingAccount,\" from\n",
        "\"BankAccount.\" Add specific methods like \"calculate_interest\" for the\n",
        "\"SavingsAccount\" class and \"deduct_fees\" for the \"CheckingAccount\" class."
      ],
      "metadata": {
        "id": "9KAAE1xLzZ1X"
      }
    },
    {
      "cell_type": "code",
      "source": [
        "class BankAccount:\n",
        "  def __init__(self,account_number,balance):\n",
        "    self.account_number=account_number\n",
        "    self.balance=balance\n",
        "\n",
        "class SavingsAccount(BankAccount):\n",
        "  def __init__(self,account_number,balance,calculate_interest):\n",
        "    super().__init__(account_number,balance)\n",
        "    self.calculate_interest=calculate_interest\n",
        "\n",
        "  def display(self):\n",
        "    print(f\"The account number {self.account_number} has {self.balance} in his account and {self.calculate_interest} percent interest.\")\n",
        "\n",
        "class CheckingAccount(BankAccount):\n",
        "  def __init__(self,account_number,balance,deduct_fees):\n",
        "    super().__init__(account_number,balance)\n",
        "    self.deduct_fees=deduct_fees\n",
        "\n",
        "  def display(self):\n",
        "    print(f\"The account number {self.account_number} has {self.balance} in his account and his deducted fees is {self.deduct_fees}.\")\n",
        "\n",
        "\n",
        "savings_account=SavingsAccount(\"abc123\",20000,\"5%\")\n",
        "savings_account.display()\n",
        "\n",
        "checking_account=CheckingAccount(\"abc345\",40000,\"4%\")\n",
        "checking_account.display()"
      ],
      "metadata": {
        "colab": {
          "base_uri": "https://localhost:8080/"
        },
        "id": "ffxparYozdmf",
        "outputId": "9868f4d7-1bd7-4613-c4d1-e67faa001f77"
      },
      "execution_count": 3,
      "outputs": [
        {
          "output_type": "stream",
          "name": "stdout",
          "text": [
            "The account number abc123 has 20000 in his account and 5% percent interest.\n",
            "The account number abc345 has 40000 in his account and his deducted fees is 4%.\n"
          ]
        }
      ]
    }
  ]
}